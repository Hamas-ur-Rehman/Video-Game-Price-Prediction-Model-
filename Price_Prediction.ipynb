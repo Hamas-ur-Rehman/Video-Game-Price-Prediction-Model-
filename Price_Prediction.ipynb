{
  "nbformat": 4,
  "nbformat_minor": 0,
  "metadata": {
    "colab": {
      "provenance": [],
      "authorship_tag": "ABX9TyOshRLAB72LF9KAadFjTUGW",
      "include_colab_link": true
    },
    "kernelspec": {
      "name": "python3",
      "display_name": "Python 3"
    },
    "language_info": {
      "name": "python"
    },
    "accelerator": "GPU",
    "gpuClass": "standard"
  },
  "cells": [
    {
      "cell_type": "markdown",
      "metadata": {
        "id": "view-in-github",
        "colab_type": "text"
      },
      "source": [
        "<a href=\"https://colab.research.google.com/github/Hamas-ur-Rehman/Video-Game-Price-Prediction-Model-/blob/main/Price_Prediction.ipynb\" target=\"_parent\"><img src=\"https://colab.research.google.com/assets/colab-badge.svg\" alt=\"Open In Colab\"/></a>"
      ]
    },
    {
      "cell_type": "code",
      "execution_count": 2,
      "metadata": {
        "id": "ijuazeND6duR"
      },
      "outputs": [],
      "source": [
        "from keras.models import Sequential\n",
        "from keras.layers import *\n",
        "import pandas as pd"
      ]
    },
    {
      "cell_type": "code",
      "source": [
        "train = pd.read_csv(\"sales_data_training_scaled.csv\")\n",
        "train.head()"
      ],
      "metadata": {
        "colab": {
          "base_uri": "https://localhost:8080/",
          "height": 270
        },
        "id": "HNmsWA35fc20",
        "outputId": "84cdd3d5-99b5-4d22-d529-39e6a7918ccf"
      },
      "execution_count": 6,
      "outputs": [
        {
          "output_type": "execute_result",
          "data": {
            "text/plain": [
              "   critic_rating  is_action  ...  total_earnings  unit_price\n",
              "0       0.500000        1.0  ...        0.374714         1.0\n",
              "1       0.833333        0.0  ...        0.192425         0.5\n",
              "2       0.333333        0.0  ...        0.114852         0.5\n",
              "3       0.833333        1.0  ...        0.142452         0.0\n",
              "4       0.666667        1.0  ...        0.480682         1.0\n",
              "\n",
              "[5 rows x 10 columns]"
            ],
            "text/html": [
              "\n",
              "  <div id=\"df-10126c33-a970-4908-b4cf-960dd4782d25\">\n",
              "    <div class=\"colab-df-container\">\n",
              "      <div>\n",
              "<style scoped>\n",
              "    .dataframe tbody tr th:only-of-type {\n",
              "        vertical-align: middle;\n",
              "    }\n",
              "\n",
              "    .dataframe tbody tr th {\n",
              "        vertical-align: top;\n",
              "    }\n",
              "\n",
              "    .dataframe thead th {\n",
              "        text-align: right;\n",
              "    }\n",
              "</style>\n",
              "<table border=\"1\" class=\"dataframe\">\n",
              "  <thead>\n",
              "    <tr style=\"text-align: right;\">\n",
              "      <th></th>\n",
              "      <th>critic_rating</th>\n",
              "      <th>is_action</th>\n",
              "      <th>is_exclusive_to_us</th>\n",
              "      <th>is_portable</th>\n",
              "      <th>is_role_playing</th>\n",
              "      <th>is_sequel</th>\n",
              "      <th>is_sports</th>\n",
              "      <th>suitable_for_kids</th>\n",
              "      <th>total_earnings</th>\n",
              "      <th>unit_price</th>\n",
              "    </tr>\n",
              "  </thead>\n",
              "  <tbody>\n",
              "    <tr>\n",
              "      <th>0</th>\n",
              "      <td>0.500000</td>\n",
              "      <td>1.0</td>\n",
              "      <td>0.0</td>\n",
              "      <td>1.0</td>\n",
              "      <td>0.0</td>\n",
              "      <td>1.0</td>\n",
              "      <td>0.0</td>\n",
              "      <td>0.0</td>\n",
              "      <td>0.374714</td>\n",
              "      <td>1.0</td>\n",
              "    </tr>\n",
              "    <tr>\n",
              "      <th>1</th>\n",
              "      <td>0.833333</td>\n",
              "      <td>0.0</td>\n",
              "      <td>0.0</td>\n",
              "      <td>0.0</td>\n",
              "      <td>0.0</td>\n",
              "      <td>1.0</td>\n",
              "      <td>1.0</td>\n",
              "      <td>0.0</td>\n",
              "      <td>0.192425</td>\n",
              "      <td>0.5</td>\n",
              "    </tr>\n",
              "    <tr>\n",
              "      <th>2</th>\n",
              "      <td>0.333333</td>\n",
              "      <td>0.0</td>\n",
              "      <td>0.0</td>\n",
              "      <td>0.0</td>\n",
              "      <td>0.0</td>\n",
              "      <td>1.0</td>\n",
              "      <td>1.0</td>\n",
              "      <td>0.0</td>\n",
              "      <td>0.114852</td>\n",
              "      <td>0.5</td>\n",
              "    </tr>\n",
              "    <tr>\n",
              "      <th>3</th>\n",
              "      <td>0.833333</td>\n",
              "      <td>1.0</td>\n",
              "      <td>0.0</td>\n",
              "      <td>0.0</td>\n",
              "      <td>0.0</td>\n",
              "      <td>0.0</td>\n",
              "      <td>0.0</td>\n",
              "      <td>1.0</td>\n",
              "      <td>0.142452</td>\n",
              "      <td>0.0</td>\n",
              "    </tr>\n",
              "    <tr>\n",
              "      <th>4</th>\n",
              "      <td>0.666667</td>\n",
              "      <td>1.0</td>\n",
              "      <td>0.0</td>\n",
              "      <td>1.0</td>\n",
              "      <td>0.0</td>\n",
              "      <td>1.0</td>\n",
              "      <td>0.0</td>\n",
              "      <td>1.0</td>\n",
              "      <td>0.480682</td>\n",
              "      <td>1.0</td>\n",
              "    </tr>\n",
              "  </tbody>\n",
              "</table>\n",
              "</div>\n",
              "      <button class=\"colab-df-convert\" onclick=\"convertToInteractive('df-10126c33-a970-4908-b4cf-960dd4782d25')\"\n",
              "              title=\"Convert this dataframe to an interactive table.\"\n",
              "              style=\"display:none;\">\n",
              "        \n",
              "  <svg xmlns=\"http://www.w3.org/2000/svg\" height=\"24px\"viewBox=\"0 0 24 24\"\n",
              "       width=\"24px\">\n",
              "    <path d=\"M0 0h24v24H0V0z\" fill=\"none\"/>\n",
              "    <path d=\"M18.56 5.44l.94 2.06.94-2.06 2.06-.94-2.06-.94-.94-2.06-.94 2.06-2.06.94zm-11 1L8.5 8.5l.94-2.06 2.06-.94-2.06-.94L8.5 2.5l-.94 2.06-2.06.94zm10 10l.94 2.06.94-2.06 2.06-.94-2.06-.94-.94-2.06-.94 2.06-2.06.94z\"/><path d=\"M17.41 7.96l-1.37-1.37c-.4-.4-.92-.59-1.43-.59-.52 0-1.04.2-1.43.59L10.3 9.45l-7.72 7.72c-.78.78-.78 2.05 0 2.83L4 21.41c.39.39.9.59 1.41.59.51 0 1.02-.2 1.41-.59l7.78-7.78 2.81-2.81c.8-.78.8-2.07 0-2.86zM5.41 20L4 18.59l7.72-7.72 1.47 1.35L5.41 20z\"/>\n",
              "  </svg>\n",
              "      </button>\n",
              "      \n",
              "  <style>\n",
              "    .colab-df-container {\n",
              "      display:flex;\n",
              "      flex-wrap:wrap;\n",
              "      gap: 12px;\n",
              "    }\n",
              "\n",
              "    .colab-df-convert {\n",
              "      background-color: #E8F0FE;\n",
              "      border: none;\n",
              "      border-radius: 50%;\n",
              "      cursor: pointer;\n",
              "      display: none;\n",
              "      fill: #1967D2;\n",
              "      height: 32px;\n",
              "      padding: 0 0 0 0;\n",
              "      width: 32px;\n",
              "    }\n",
              "\n",
              "    .colab-df-convert:hover {\n",
              "      background-color: #E2EBFA;\n",
              "      box-shadow: 0px 1px 2px rgba(60, 64, 67, 0.3), 0px 1px 3px 1px rgba(60, 64, 67, 0.15);\n",
              "      fill: #174EA6;\n",
              "    }\n",
              "\n",
              "    [theme=dark] .colab-df-convert {\n",
              "      background-color: #3B4455;\n",
              "      fill: #D2E3FC;\n",
              "    }\n",
              "\n",
              "    [theme=dark] .colab-df-convert:hover {\n",
              "      background-color: #434B5C;\n",
              "      box-shadow: 0px 1px 3px 1px rgba(0, 0, 0, 0.15);\n",
              "      filter: drop-shadow(0px 1px 2px rgba(0, 0, 0, 0.3));\n",
              "      fill: #FFFFFF;\n",
              "    }\n",
              "  </style>\n",
              "\n",
              "      <script>\n",
              "        const buttonEl =\n",
              "          document.querySelector('#df-10126c33-a970-4908-b4cf-960dd4782d25 button.colab-df-convert');\n",
              "        buttonEl.style.display =\n",
              "          google.colab.kernel.accessAllowed ? 'block' : 'none';\n",
              "\n",
              "        async function convertToInteractive(key) {\n",
              "          const element = document.querySelector('#df-10126c33-a970-4908-b4cf-960dd4782d25');\n",
              "          const dataTable =\n",
              "            await google.colab.kernel.invokeFunction('convertToInteractive',\n",
              "                                                     [key], {});\n",
              "          if (!dataTable) return;\n",
              "\n",
              "          const docLinkHtml = 'Like what you see? Visit the ' +\n",
              "            '<a target=\"_blank\" href=https://colab.research.google.com/notebooks/data_table.ipynb>data table notebook</a>'\n",
              "            + ' to learn more about interactive tables.';\n",
              "          element.innerHTML = '';\n",
              "          dataTable['output_type'] = 'display_data';\n",
              "          await google.colab.output.renderOutput(dataTable, element);\n",
              "          const docLink = document.createElement('div');\n",
              "          docLink.innerHTML = docLinkHtml;\n",
              "          element.appendChild(docLink);\n",
              "        }\n",
              "      </script>\n",
              "    </div>\n",
              "  </div>\n",
              "  "
            ]
          },
          "metadata": {},
          "execution_count": 6
        }
      ]
    },
    {
      "cell_type": "code",
      "source": [
        "x = train.drop('total_earnings',axis = 1).values\n",
        "y = train[['total_earnings']].values"
      ],
      "metadata": {
        "id": "YWDVcpa7f9VA"
      },
      "execution_count": 9,
      "outputs": []
    },
    {
      "cell_type": "code",
      "source": [
        "train.info()"
      ],
      "metadata": {
        "colab": {
          "base_uri": "https://localhost:8080/"
        },
        "id": "x6hFCgWag_Hd",
        "outputId": "f8b84cc6-a98a-46f1-b085-8742d8f8d25b"
      },
      "execution_count": 10,
      "outputs": [
        {
          "output_type": "stream",
          "name": "stdout",
          "text": [
            "<class 'pandas.core.frame.DataFrame'>\n",
            "RangeIndex: 1000 entries, 0 to 999\n",
            "Data columns (total 10 columns):\n",
            " #   Column              Non-Null Count  Dtype  \n",
            "---  ------              --------------  -----  \n",
            " 0   critic_rating       1000 non-null   float64\n",
            " 1   is_action           1000 non-null   float64\n",
            " 2   is_exclusive_to_us  1000 non-null   float64\n",
            " 3   is_portable         1000 non-null   float64\n",
            " 4   is_role_playing     1000 non-null   float64\n",
            " 5   is_sequel           1000 non-null   float64\n",
            " 6   is_sports           1000 non-null   float64\n",
            " 7   suitable_for_kids   1000 non-null   float64\n",
            " 8   total_earnings      1000 non-null   float64\n",
            " 9   unit_price          1000 non-null   float64\n",
            "dtypes: float64(10)\n",
            "memory usage: 78.2 KB\n"
          ]
        }
      ]
    },
    {
      "cell_type": "code",
      "source": [
        "model = Sequential()\n",
        "model.add(Dense(50,input_dim=9,activation='relu'))\n",
        "model.add(Dense(100,activation='relu'))\n",
        "model.add(Dense(50,activation='relu'))\n",
        "model.add(Dense(1,activation='linear'))\n",
        "model.compile(loss='mean_squared_error', optimizer = 'adam')"
      ],
      "metadata": {
        "id": "h1--FM9vgOQm"
      },
      "execution_count": 11,
      "outputs": []
    },
    {
      "cell_type": "code",
      "source": [
        "model.fit(\n",
        "    x,\n",
        "    y,\n",
        "    epochs= 100,\n",
        "    shuffle = True,\n",
        "    verbose = 2\n",
        ")"
      ],
      "metadata": {
        "colab": {
          "base_uri": "https://localhost:8080/"
        },
        "id": "fCYfY2jjhkqm",
        "outputId": "374a7506-00c9-4e1a-9c4c-9fb8edd0524c"
      },
      "execution_count": 35,
      "outputs": [
        {
          "output_type": "stream",
          "name": "stdout",
          "text": [
            "Epoch 1/100\n",
            "32/32 - 0s - loss: 1.8005e-05 - 70ms/epoch - 2ms/step\n",
            "Epoch 2/100\n",
            "32/32 - 0s - loss: 2.5624e-05 - 68ms/epoch - 2ms/step\n",
            "Epoch 3/100\n",
            "32/32 - 0s - loss: 2.5269e-05 - 64ms/epoch - 2ms/step\n",
            "Epoch 4/100\n",
            "32/32 - 0s - loss: 2.6626e-05 - 65ms/epoch - 2ms/step\n",
            "Epoch 5/100\n",
            "32/32 - 0s - loss: 2.9680e-05 - 66ms/epoch - 2ms/step\n",
            "Epoch 6/100\n",
            "32/32 - 0s - loss: 2.2751e-05 - 65ms/epoch - 2ms/step\n",
            "Epoch 7/100\n",
            "32/32 - 0s - loss: 2.4639e-05 - 78ms/epoch - 2ms/step\n",
            "Epoch 8/100\n",
            "32/32 - 0s - loss: 2.4039e-05 - 66ms/epoch - 2ms/step\n",
            "Epoch 9/100\n",
            "32/32 - 0s - loss: 2.9714e-05 - 64ms/epoch - 2ms/step\n",
            "Epoch 10/100\n",
            "32/32 - 0s - loss: 2.8685e-05 - 64ms/epoch - 2ms/step\n",
            "Epoch 11/100\n",
            "32/32 - 0s - loss: 3.5190e-05 - 63ms/epoch - 2ms/step\n",
            "Epoch 12/100\n",
            "32/32 - 0s - loss: 6.4141e-05 - 67ms/epoch - 2ms/step\n",
            "Epoch 13/100\n",
            "32/32 - 0s - loss: 6.4921e-05 - 72ms/epoch - 2ms/step\n",
            "Epoch 14/100\n",
            "32/32 - 0s - loss: 3.0304e-05 - 66ms/epoch - 2ms/step\n",
            "Epoch 15/100\n",
            "32/32 - 0s - loss: 2.8405e-05 - 66ms/epoch - 2ms/step\n",
            "Epoch 16/100\n",
            "32/32 - 0s - loss: 3.5982e-05 - 72ms/epoch - 2ms/step\n",
            "Epoch 17/100\n",
            "32/32 - 0s - loss: 2.0975e-05 - 64ms/epoch - 2ms/step\n",
            "Epoch 18/100\n",
            "32/32 - 0s - loss: 2.5670e-05 - 63ms/epoch - 2ms/step\n",
            "Epoch 19/100\n",
            "32/32 - 0s - loss: 2.6081e-05 - 67ms/epoch - 2ms/step\n",
            "Epoch 20/100\n",
            "32/32 - 0s - loss: 2.2900e-05 - 71ms/epoch - 2ms/step\n",
            "Epoch 21/100\n",
            "32/32 - 0s - loss: 2.8810e-05 - 76ms/epoch - 2ms/step\n",
            "Epoch 22/100\n",
            "32/32 - 0s - loss: 2.4775e-05 - 64ms/epoch - 2ms/step\n",
            "Epoch 23/100\n",
            "32/32 - 0s - loss: 2.5883e-05 - 68ms/epoch - 2ms/step\n",
            "Epoch 24/100\n",
            "32/32 - 0s - loss: 2.2011e-05 - 68ms/epoch - 2ms/step\n",
            "Epoch 25/100\n",
            "32/32 - 0s - loss: 2.0172e-05 - 66ms/epoch - 2ms/step\n",
            "Epoch 26/100\n",
            "32/32 - 0s - loss: 3.4445e-05 - 71ms/epoch - 2ms/step\n",
            "Epoch 27/100\n",
            "32/32 - 0s - loss: 3.6044e-05 - 67ms/epoch - 2ms/step\n",
            "Epoch 28/100\n",
            "32/32 - 0s - loss: 2.4105e-05 - 67ms/epoch - 2ms/step\n",
            "Epoch 29/100\n",
            "32/32 - 0s - loss: 2.3069e-05 - 66ms/epoch - 2ms/step\n",
            "Epoch 30/100\n",
            "32/32 - 0s - loss: 2.1154e-05 - 65ms/epoch - 2ms/step\n",
            "Epoch 31/100\n",
            "32/32 - 0s - loss: 3.4359e-05 - 66ms/epoch - 2ms/step\n",
            "Epoch 32/100\n",
            "32/32 - 0s - loss: 3.2400e-05 - 66ms/epoch - 2ms/step\n",
            "Epoch 33/100\n",
            "32/32 - 0s - loss: 2.6080e-05 - 68ms/epoch - 2ms/step\n",
            "Epoch 34/100\n",
            "32/32 - 0s - loss: 3.6431e-05 - 67ms/epoch - 2ms/step\n",
            "Epoch 35/100\n",
            "32/32 - 0s - loss: 2.4904e-05 - 77ms/epoch - 2ms/step\n",
            "Epoch 36/100\n",
            "32/32 - 0s - loss: 2.6844e-05 - 64ms/epoch - 2ms/step\n",
            "Epoch 37/100\n",
            "32/32 - 0s - loss: 5.0682e-05 - 68ms/epoch - 2ms/step\n",
            "Epoch 38/100\n",
            "32/32 - 0s - loss: 5.8527e-05 - 67ms/epoch - 2ms/step\n",
            "Epoch 39/100\n",
            "32/32 - 0s - loss: 2.7283e-05 - 66ms/epoch - 2ms/step\n",
            "Epoch 40/100\n",
            "32/32 - 0s - loss: 2.2451e-05 - 66ms/epoch - 2ms/step\n",
            "Epoch 41/100\n",
            "32/32 - 0s - loss: 1.9382e-05 - 71ms/epoch - 2ms/step\n",
            "Epoch 42/100\n",
            "32/32 - 0s - loss: 2.9884e-05 - 67ms/epoch - 2ms/step\n",
            "Epoch 43/100\n",
            "32/32 - 0s - loss: 2.0149e-05 - 66ms/epoch - 2ms/step\n",
            "Epoch 44/100\n",
            "32/32 - 0s - loss: 3.5556e-05 - 63ms/epoch - 2ms/step\n",
            "Epoch 45/100\n",
            "32/32 - 0s - loss: 1.8416e-05 - 63ms/epoch - 2ms/step\n",
            "Epoch 46/100\n",
            "32/32 - 0s - loss: 1.7729e-05 - 62ms/epoch - 2ms/step\n",
            "Epoch 47/100\n",
            "32/32 - 0s - loss: 2.5044e-05 - 64ms/epoch - 2ms/step\n",
            "Epoch 48/100\n",
            "32/32 - 0s - loss: 2.8994e-05 - 66ms/epoch - 2ms/step\n",
            "Epoch 49/100\n",
            "32/32 - 0s - loss: 2.3357e-05 - 66ms/epoch - 2ms/step\n",
            "Epoch 50/100\n",
            "32/32 - 0s - loss: 2.3729e-05 - 70ms/epoch - 2ms/step\n",
            "Epoch 51/100\n",
            "32/32 - 0s - loss: 1.9701e-05 - 64ms/epoch - 2ms/step\n",
            "Epoch 52/100\n",
            "32/32 - 0s - loss: 2.3778e-05 - 62ms/epoch - 2ms/step\n",
            "Epoch 53/100\n",
            "32/32 - 0s - loss: 4.0465e-05 - 63ms/epoch - 2ms/step\n",
            "Epoch 54/100\n",
            "32/32 - 0s - loss: 5.4028e-05 - 73ms/epoch - 2ms/step\n",
            "Epoch 55/100\n",
            "32/32 - 0s - loss: 2.9032e-05 - 67ms/epoch - 2ms/step\n",
            "Epoch 56/100\n",
            "32/32 - 0s - loss: 3.6490e-05 - 68ms/epoch - 2ms/step\n",
            "Epoch 57/100\n",
            "32/32 - 0s - loss: 2.7155e-05 - 66ms/epoch - 2ms/step\n",
            "Epoch 58/100\n",
            "32/32 - 0s - loss: 3.4835e-05 - 66ms/epoch - 2ms/step\n",
            "Epoch 59/100\n",
            "32/32 - 0s - loss: 3.5951e-05 - 63ms/epoch - 2ms/step\n",
            "Epoch 60/100\n",
            "32/32 - 0s - loss: 4.6184e-05 - 65ms/epoch - 2ms/step\n",
            "Epoch 61/100\n",
            "32/32 - 0s - loss: 2.3851e-05 - 68ms/epoch - 2ms/step\n",
            "Epoch 62/100\n",
            "32/32 - 0s - loss: 1.8200e-05 - 75ms/epoch - 2ms/step\n",
            "Epoch 63/100\n",
            "32/32 - 0s - loss: 3.4925e-05 - 65ms/epoch - 2ms/step\n",
            "Epoch 64/100\n",
            "32/32 - 0s - loss: 3.3103e-05 - 72ms/epoch - 2ms/step\n",
            "Epoch 65/100\n",
            "32/32 - 0s - loss: 4.5737e-05 - 68ms/epoch - 2ms/step\n",
            "Epoch 66/100\n",
            "32/32 - 0s - loss: 4.2099e-05 - 63ms/epoch - 2ms/step\n",
            "Epoch 67/100\n",
            "32/32 - 0s - loss: 5.8263e-05 - 65ms/epoch - 2ms/step\n",
            "Epoch 68/100\n",
            "32/32 - 0s - loss: 5.9563e-05 - 67ms/epoch - 2ms/step\n",
            "Epoch 69/100\n",
            "32/32 - 0s - loss: 4.7225e-05 - 65ms/epoch - 2ms/step\n",
            "Epoch 70/100\n",
            "32/32 - 0s - loss: 2.3247e-05 - 66ms/epoch - 2ms/step\n",
            "Epoch 71/100\n",
            "32/32 - 0s - loss: 2.8632e-05 - 64ms/epoch - 2ms/step\n",
            "Epoch 72/100\n",
            "32/32 - 0s - loss: 3.0911e-05 - 70ms/epoch - 2ms/step\n",
            "Epoch 73/100\n",
            "32/32 - 0s - loss: 2.6935e-05 - 65ms/epoch - 2ms/step\n",
            "Epoch 74/100\n",
            "32/32 - 0s - loss: 1.7735e-05 - 64ms/epoch - 2ms/step\n",
            "Epoch 75/100\n",
            "32/32 - 0s - loss: 2.1825e-05 - 65ms/epoch - 2ms/step\n",
            "Epoch 76/100\n",
            "32/32 - 0s - loss: 2.8442e-05 - 65ms/epoch - 2ms/step\n",
            "Epoch 77/100\n",
            "32/32 - 0s - loss: 2.8126e-05 - 78ms/epoch - 2ms/step\n",
            "Epoch 78/100\n",
            "32/32 - 0s - loss: 5.6673e-05 - 74ms/epoch - 2ms/step\n",
            "Epoch 79/100\n",
            "32/32 - 0s - loss: 6.6116e-05 - 68ms/epoch - 2ms/step\n",
            "Epoch 80/100\n",
            "32/32 - 0s - loss: 9.8633e-05 - 67ms/epoch - 2ms/step\n",
            "Epoch 81/100\n",
            "32/32 - 0s - loss: 4.4898e-05 - 66ms/epoch - 2ms/step\n",
            "Epoch 82/100\n",
            "32/32 - 0s - loss: 4.6839e-05 - 69ms/epoch - 2ms/step\n",
            "Epoch 83/100\n",
            "32/32 - 0s - loss: 3.5651e-05 - 75ms/epoch - 2ms/step\n",
            "Epoch 84/100\n",
            "32/32 - 0s - loss: 9.1930e-05 - 66ms/epoch - 2ms/step\n",
            "Epoch 85/100\n",
            "32/32 - 0s - loss: 6.0397e-05 - 65ms/epoch - 2ms/step\n",
            "Epoch 86/100\n",
            "32/32 - 0s - loss: 4.3407e-05 - 66ms/epoch - 2ms/step\n",
            "Epoch 87/100\n",
            "32/32 - 0s - loss: 3.0533e-05 - 66ms/epoch - 2ms/step\n",
            "Epoch 88/100\n",
            "32/32 - 0s - loss: 2.3957e-05 - 65ms/epoch - 2ms/step\n",
            "Epoch 89/100\n",
            "32/32 - 0s - loss: 2.0610e-05 - 65ms/epoch - 2ms/step\n",
            "Epoch 90/100\n",
            "32/32 - 0s - loss: 2.2381e-05 - 66ms/epoch - 2ms/step\n",
            "Epoch 91/100\n",
            "32/32 - 0s - loss: 2.1318e-05 - 69ms/epoch - 2ms/step\n",
            "Epoch 92/100\n",
            "32/32 - 0s - loss: 2.4940e-05 - 72ms/epoch - 2ms/step\n",
            "Epoch 93/100\n",
            "32/32 - 0s - loss: 2.3469e-05 - 70ms/epoch - 2ms/step\n",
            "Epoch 94/100\n",
            "32/32 - 0s - loss: 2.5367e-05 - 67ms/epoch - 2ms/step\n",
            "Epoch 95/100\n",
            "32/32 - 0s - loss: 1.8678e-05 - 69ms/epoch - 2ms/step\n",
            "Epoch 96/100\n",
            "32/32 - 0s - loss: 2.7321e-05 - 67ms/epoch - 2ms/step\n",
            "Epoch 97/100\n",
            "32/32 - 0s - loss: 3.0647e-05 - 69ms/epoch - 2ms/step\n",
            "Epoch 98/100\n",
            "32/32 - 0s - loss: 2.9858e-05 - 66ms/epoch - 2ms/step\n",
            "Epoch 99/100\n",
            "32/32 - 0s - loss: 4.3142e-05 - 66ms/epoch - 2ms/step\n",
            "Epoch 100/100\n",
            "32/32 - 0s - loss: 2.8662e-05 - 65ms/epoch - 2ms/step\n"
          ]
        },
        {
          "output_type": "execute_result",
          "data": {
            "text/plain": [
              "<keras.callbacks.History at 0x7ffaee280790>"
            ]
          },
          "metadata": {},
          "execution_count": 35
        }
      ]
    },
    {
      "cell_type": "code",
      "source": [
        "test = pd.read_csv(\"sales_data_test_scaled.csv\")"
      ],
      "metadata": {
        "id": "JPTp5Aegh8gS"
      },
      "execution_count": 36,
      "outputs": []
    },
    {
      "cell_type": "code",
      "source": [
        "x_test = test.drop('total_earnings',axis = 1).values\n",
        "y_test = test[['total_earnings']].values"
      ],
      "metadata": {
        "id": "D-sfGQC6iH2V"
      },
      "execution_count": 37,
      "outputs": []
    },
    {
      "cell_type": "code",
      "source": [
        "error_rate = model.evaluate(x_test,y_test,verbose = 0)"
      ],
      "metadata": {
        "id": "c6W-5KMWiVNM"
      },
      "execution_count": 38,
      "outputs": []
    },
    {
      "cell_type": "code",
      "source": [
        "error_rate"
      ],
      "metadata": {
        "colab": {
          "base_uri": "https://localhost:8080/"
        },
        "id": "KpXO9Cvtid-1",
        "outputId": "220636d5-8be2-40bc-be8f-b63508f58fda"
      },
      "execution_count": 39,
      "outputs": [
        {
          "output_type": "execute_result",
          "data": {
            "text/plain": [
              "4.9689089792082086e-05"
            ]
          },
          "metadata": {},
          "execution_count": 39
        }
      ]
    },
    {
      "cell_type": "code",
      "source": [
        "predict = pd.read_csv(\"sales_data_testing_scaled.csv\")\n",
        "X = predict[['total_earnings']].values"
      ],
      "metadata": {
        "id": "NL6H5zO4ihTD"
      },
      "execution_count": 40,
      "outputs": []
    },
    {
      "cell_type": "code",
      "source": [
        "X = X [0][0]\n",
        "X = X + 0.1159\n",
        "X = X / 0.0000036968\n",
        "X"
      ],
      "metadata": {
        "colab": {
          "base_uri": "https://localhost:8080/"
        },
        "id": "VKhUQJ8Kkcuj",
        "outputId": "a290e346-2c87-4be4-ba3d-1fe7f539fa32"
      },
      "execution_count": 41,
      "outputs": [
        {
          "output_type": "execute_result",
          "data": {
            "text/plain": [
              "247532.81561535975"
            ]
          },
          "metadata": {},
          "execution_count": 41
        }
      ]
    },
    {
      "cell_type": "code",
      "source": [
        "predict = predict.drop(\"total_earnings\", axis =1).values"
      ],
      "metadata": {
        "id": "3C-W3Zq-jQMl"
      },
      "execution_count": 42,
      "outputs": []
    },
    {
      "cell_type": "code",
      "source": [
        "prediction = model.predict(predict)"
      ],
      "metadata": {
        "id": "RAI3rpiOjbdk"
      },
      "execution_count": 43,
      "outputs": []
    },
    {
      "cell_type": "code",
      "source": [
        "prediction = prediction[0][0]"
      ],
      "metadata": {
        "id": "bLJHRNCqjs2Q"
      },
      "execution_count": 44,
      "outputs": []
    },
    {
      "cell_type": "code",
      "source": [
        "prediction = prediction + 0.1159\n",
        "prediction = prediction / 0.0000036968"
      ],
      "metadata": {
        "id": "fpC0gkyBj2b3"
      },
      "execution_count": 45,
      "outputs": []
    },
    {
      "cell_type": "code",
      "source": [
        "prediction"
      ],
      "metadata": {
        "colab": {
          "base_uri": "https://localhost:8080/"
        },
        "id": "bp7gJtOPkEcY",
        "outputId": "c071c62d-9dea-45bf-a25f-884e3c1ed47a"
      },
      "execution_count": 46,
      "outputs": [
        {
          "output_type": "execute_result",
          "data": {
            "text/plain": [
              "248631.9261514581"
            ]
          },
          "metadata": {},
          "execution_count": 46
        }
      ]
    },
    {
      "cell_type": "code",
      "source": [
        "model.save(\"trainned_mode.h5\")"
      ],
      "metadata": {
        "id": "eOWPa6_WkFwA"
      },
      "execution_count": 47,
      "outputs": []
    },
    {
      "cell_type": "code",
      "source": [],
      "metadata": {
        "id": "J93ENhhllG6l"
      },
      "execution_count": null,
      "outputs": []
    }
  ]
}